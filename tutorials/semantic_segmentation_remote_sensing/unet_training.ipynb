{
  "nbformat": 4,
  "nbformat_minor": 0,
  "metadata": {
    "colab": {
      "name": "unet_training.ipynb",
      "provenance": [],
      "collapsed_sections": []
    },
    "kernelspec": {
      "name": "python3",
      "display_name": "Python 3"
    },
    "language_info": {
      "name": "python"
    },
    "accelerator": "GPU",
    "widgets": {
      "application/vnd.jupyter.widget-state+json": {
        "b650c0f7d9bc44f2ad258d6da34fcd44": {
          "model_module": "@jupyter-widgets/controls",
          "model_name": "HBoxModel",
          "state": {
            "_view_name": "HBoxView",
            "_dom_classes": [],
            "_model_name": "HBoxModel",
            "_view_module": "@jupyter-widgets/controls",
            "_model_module_version": "1.5.0",
            "_view_count": null,
            "_view_module_version": "1.5.0",
            "box_style": "",
            "layout": "IPY_MODEL_12bdf1f6a13a4ad3823c19ab47899e7e",
            "_model_module": "@jupyter-widgets/controls",
            "children": [
              "IPY_MODEL_15b47df43f13418ca8eba8d9d036f80e",
              "IPY_MODEL_e464031c41c94edead4fe1b5b20bcab9"
            ]
          }
        },
        "12bdf1f6a13a4ad3823c19ab47899e7e": {
          "model_module": "@jupyter-widgets/base",
          "model_name": "LayoutModel",
          "state": {
            "_view_name": "LayoutView",
            "grid_template_rows": null,
            "right": null,
            "justify_content": null,
            "_view_module": "@jupyter-widgets/base",
            "overflow": null,
            "_model_module_version": "1.2.0",
            "_view_count": null,
            "flex_flow": null,
            "width": null,
            "min_width": null,
            "border": null,
            "align_items": null,
            "bottom": null,
            "_model_module": "@jupyter-widgets/base",
            "top": null,
            "grid_column": null,
            "overflow_y": null,
            "overflow_x": null,
            "grid_auto_flow": null,
            "grid_area": null,
            "grid_template_columns": null,
            "flex": null,
            "_model_name": "LayoutModel",
            "justify_items": null,
            "grid_row": null,
            "max_height": null,
            "align_content": null,
            "visibility": null,
            "align_self": null,
            "height": null,
            "min_height": null,
            "padding": null,
            "grid_auto_rows": null,
            "grid_gap": null,
            "max_width": null,
            "order": null,
            "_view_module_version": "1.2.0",
            "grid_template_areas": null,
            "object_position": null,
            "object_fit": null,
            "grid_auto_columns": null,
            "margin": null,
            "display": null,
            "left": null
          }
        },
        "15b47df43f13418ca8eba8d9d036f80e": {
          "model_module": "@jupyter-widgets/controls",
          "model_name": "FloatProgressModel",
          "state": {
            "_view_name": "ProgressView",
            "style": "IPY_MODEL_8afc2dfc827d488a85657347d326291f",
            "_dom_classes": [],
            "description": "[Train] Loss: 0.53: 100%",
            "_model_name": "FloatProgressModel",
            "bar_style": "success",
            "max": 158,
            "_view_module": "@jupyter-widgets/controls",
            "_model_module_version": "1.5.0",
            "value": 158,
            "_view_count": null,
            "_view_module_version": "1.5.0",
            "orientation": "horizontal",
            "min": 0,
            "description_tooltip": null,
            "_model_module": "@jupyter-widgets/controls",
            "layout": "IPY_MODEL_7a4581ccc932402fb120bd5732ef0f07"
          }
        },
        "e464031c41c94edead4fe1b5b20bcab9": {
          "model_module": "@jupyter-widgets/controls",
          "model_name": "HTMLModel",
          "state": {
            "_view_name": "HTMLView",
            "style": "IPY_MODEL_c2ce4ec6fd7a4d64b01016263e898ce5",
            "_dom_classes": [],
            "description": "",
            "_model_name": "HTMLModel",
            "placeholder": "​",
            "_view_module": "@jupyter-widgets/controls",
            "_model_module_version": "1.5.0",
            "value": " 158/158 [06:25&lt;00:00,  2.44s/it]",
            "_view_count": null,
            "_view_module_version": "1.5.0",
            "description_tooltip": null,
            "_model_module": "@jupyter-widgets/controls",
            "layout": "IPY_MODEL_61dfd6a0b77c4ba0a330cde10bb152e5"
          }
        },
        "8afc2dfc827d488a85657347d326291f": {
          "model_module": "@jupyter-widgets/controls",
          "model_name": "ProgressStyleModel",
          "state": {
            "_view_name": "StyleView",
            "_model_name": "ProgressStyleModel",
            "description_width": "initial",
            "_view_module": "@jupyter-widgets/base",
            "_model_module_version": "1.5.0",
            "_view_count": null,
            "_view_module_version": "1.2.0",
            "bar_color": null,
            "_model_module": "@jupyter-widgets/controls"
          }
        },
        "7a4581ccc932402fb120bd5732ef0f07": {
          "model_module": "@jupyter-widgets/base",
          "model_name": "LayoutModel",
          "state": {
            "_view_name": "LayoutView",
            "grid_template_rows": null,
            "right": null,
            "justify_content": null,
            "_view_module": "@jupyter-widgets/base",
            "overflow": null,
            "_model_module_version": "1.2.0",
            "_view_count": null,
            "flex_flow": null,
            "width": null,
            "min_width": null,
            "border": null,
            "align_items": null,
            "bottom": null,
            "_model_module": "@jupyter-widgets/base",
            "top": null,
            "grid_column": null,
            "overflow_y": null,
            "overflow_x": null,
            "grid_auto_flow": null,
            "grid_area": null,
            "grid_template_columns": null,
            "flex": null,
            "_model_name": "LayoutModel",
            "justify_items": null,
            "grid_row": null,
            "max_height": null,
            "align_content": null,
            "visibility": null,
            "align_self": null,
            "height": null,
            "min_height": null,
            "padding": null,
            "grid_auto_rows": null,
            "grid_gap": null,
            "max_width": null,
            "order": null,
            "_view_module_version": "1.2.0",
            "grid_template_areas": null,
            "object_position": null,
            "object_fit": null,
            "grid_auto_columns": null,
            "margin": null,
            "display": null,
            "left": null
          }
        },
        "c2ce4ec6fd7a4d64b01016263e898ce5": {
          "model_module": "@jupyter-widgets/controls",
          "model_name": "DescriptionStyleModel",
          "state": {
            "_view_name": "StyleView",
            "_model_name": "DescriptionStyleModel",
            "description_width": "",
            "_view_module": "@jupyter-widgets/base",
            "_model_module_version": "1.5.0",
            "_view_count": null,
            "_view_module_version": "1.2.0",
            "_model_module": "@jupyter-widgets/controls"
          }
        },
        "61dfd6a0b77c4ba0a330cde10bb152e5": {
          "model_module": "@jupyter-widgets/base",
          "model_name": "LayoutModel",
          "state": {
            "_view_name": "LayoutView",
            "grid_template_rows": null,
            "right": null,
            "justify_content": null,
            "_view_module": "@jupyter-widgets/base",
            "overflow": null,
            "_model_module_version": "1.2.0",
            "_view_count": null,
            "flex_flow": null,
            "width": null,
            "min_width": null,
            "border": null,
            "align_items": null,
            "bottom": null,
            "_model_module": "@jupyter-widgets/base",
            "top": null,
            "grid_column": null,
            "overflow_y": null,
            "overflow_x": null,
            "grid_auto_flow": null,
            "grid_area": null,
            "grid_template_columns": null,
            "flex": null,
            "_model_name": "LayoutModel",
            "justify_items": null,
            "grid_row": null,
            "max_height": null,
            "align_content": null,
            "visibility": null,
            "align_self": null,
            "height": null,
            "min_height": null,
            "padding": null,
            "grid_auto_rows": null,
            "grid_gap": null,
            "max_width": null,
            "order": null,
            "_view_module_version": "1.2.0",
            "grid_template_areas": null,
            "object_position": null,
            "object_fit": null,
            "grid_auto_columns": null,
            "margin": null,
            "display": null,
            "left": null
          }
        },
        "914da5d9f0a745a582317f9527612429": {
          "model_module": "@jupyter-widgets/controls",
          "model_name": "HBoxModel",
          "state": {
            "_view_name": "HBoxView",
            "_dom_classes": [],
            "_model_name": "HBoxModel",
            "_view_module": "@jupyter-widgets/controls",
            "_model_module_version": "1.5.0",
            "_view_count": null,
            "_view_module_version": "1.5.0",
            "box_style": "",
            "layout": "IPY_MODEL_114bc70677dd4018bf8247812a08765e",
            "_model_module": "@jupyter-widgets/controls",
            "children": [
              "IPY_MODEL_c80f9319b87848358b09f0bf036ccc03",
              "IPY_MODEL_5be178ce75d749d89dbd132f54e2dc2c"
            ]
          }
        },
        "114bc70677dd4018bf8247812a08765e": {
          "model_module": "@jupyter-widgets/base",
          "model_name": "LayoutModel",
          "state": {
            "_view_name": "LayoutView",
            "grid_template_rows": null,
            "right": null,
            "justify_content": null,
            "_view_module": "@jupyter-widgets/base",
            "overflow": null,
            "_model_module_version": "1.2.0",
            "_view_count": null,
            "flex_flow": null,
            "width": null,
            "min_width": null,
            "border": null,
            "align_items": null,
            "bottom": null,
            "_model_module": "@jupyter-widgets/base",
            "top": null,
            "grid_column": null,
            "overflow_y": null,
            "overflow_x": null,
            "grid_auto_flow": null,
            "grid_area": null,
            "grid_template_columns": null,
            "flex": null,
            "_model_name": "LayoutModel",
            "justify_items": null,
            "grid_row": null,
            "max_height": null,
            "align_content": null,
            "visibility": null,
            "align_self": null,
            "height": null,
            "min_height": null,
            "padding": null,
            "grid_auto_rows": null,
            "grid_gap": null,
            "max_width": null,
            "order": null,
            "_view_module_version": "1.2.0",
            "grid_template_areas": null,
            "object_position": null,
            "object_fit": null,
            "grid_auto_columns": null,
            "margin": null,
            "display": null,
            "left": null
          }
        },
        "c80f9319b87848358b09f0bf036ccc03": {
          "model_module": "@jupyter-widgets/controls",
          "model_name": "FloatProgressModel",
          "state": {
            "_view_name": "ProgressView",
            "style": "IPY_MODEL_bbfb97bb60c44b07974ec835d1539e6c",
            "_dom_classes": [],
            "description": "[Val] Loss: 0.48, OA: 79.51: 100%",
            "_model_name": "FloatProgressModel",
            "bar_style": "success",
            "max": 28,
            "_view_module": "@jupyter-widgets/controls",
            "_model_module_version": "1.5.0",
            "value": 28,
            "_view_count": null,
            "_view_module_version": "1.5.0",
            "orientation": "horizontal",
            "min": 0,
            "description_tooltip": null,
            "_model_module": "@jupyter-widgets/controls",
            "layout": "IPY_MODEL_3a9d4147e96a49e496c2b4f0c61b8933"
          }
        },
        "5be178ce75d749d89dbd132f54e2dc2c": {
          "model_module": "@jupyter-widgets/controls",
          "model_name": "HTMLModel",
          "state": {
            "_view_name": "HTMLView",
            "style": "IPY_MODEL_1748dd1e8e0c41f69c588478837b6ac5",
            "_dom_classes": [],
            "description": "",
            "_model_name": "HTMLModel",
            "placeholder": "​",
            "_view_module": "@jupyter-widgets/controls",
            "_model_module_version": "1.5.0",
            "value": " 28/28 [03:32&lt;00:00,  7.60s/it]",
            "_view_count": null,
            "_view_module_version": "1.5.0",
            "description_tooltip": null,
            "_model_module": "@jupyter-widgets/controls",
            "layout": "IPY_MODEL_b6ee308245f440f19c085704fe26d4a1"
          }
        },
        "bbfb97bb60c44b07974ec835d1539e6c": {
          "model_module": "@jupyter-widgets/controls",
          "model_name": "ProgressStyleModel",
          "state": {
            "_view_name": "StyleView",
            "_model_name": "ProgressStyleModel",
            "description_width": "initial",
            "_view_module": "@jupyter-widgets/base",
            "_model_module_version": "1.5.0",
            "_view_count": null,
            "_view_module_version": "1.2.0",
            "bar_color": null,
            "_model_module": "@jupyter-widgets/controls"
          }
        },
        "3a9d4147e96a49e496c2b4f0c61b8933": {
          "model_module": "@jupyter-widgets/base",
          "model_name": "LayoutModel",
          "state": {
            "_view_name": "LayoutView",
            "grid_template_rows": null,
            "right": null,
            "justify_content": null,
            "_view_module": "@jupyter-widgets/base",
            "overflow": null,
            "_model_module_version": "1.2.0",
            "_view_count": null,
            "flex_flow": null,
            "width": null,
            "min_width": null,
            "border": null,
            "align_items": null,
            "bottom": null,
            "_model_module": "@jupyter-widgets/base",
            "top": null,
            "grid_column": null,
            "overflow_y": null,
            "overflow_x": null,
            "grid_auto_flow": null,
            "grid_area": null,
            "grid_template_columns": null,
            "flex": null,
            "_model_name": "LayoutModel",
            "justify_items": null,
            "grid_row": null,
            "max_height": null,
            "align_content": null,
            "visibility": null,
            "align_self": null,
            "height": null,
            "min_height": null,
            "padding": null,
            "grid_auto_rows": null,
            "grid_gap": null,
            "max_width": null,
            "order": null,
            "_view_module_version": "1.2.0",
            "grid_template_areas": null,
            "object_position": null,
            "object_fit": null,
            "grid_auto_columns": null,
            "margin": null,
            "display": null,
            "left": null
          }
        },
        "1748dd1e8e0c41f69c588478837b6ac5": {
          "model_module": "@jupyter-widgets/controls",
          "model_name": "DescriptionStyleModel",
          "state": {
            "_view_name": "StyleView",
            "_model_name": "DescriptionStyleModel",
            "description_width": "",
            "_view_module": "@jupyter-widgets/base",
            "_model_module_version": "1.5.0",
            "_view_count": null,
            "_view_module_version": "1.2.0",
            "_model_module": "@jupyter-widgets/controls"
          }
        },
        "b6ee308245f440f19c085704fe26d4a1": {
          "model_module": "@jupyter-widgets/base",
          "model_name": "LayoutModel",
          "state": {
            "_view_name": "LayoutView",
            "grid_template_rows": null,
            "right": null,
            "justify_content": null,
            "_view_module": "@jupyter-widgets/base",
            "overflow": null,
            "_model_module_version": "1.2.0",
            "_view_count": null,
            "flex_flow": null,
            "width": null,
            "min_width": null,
            "border": null,
            "align_items": null,
            "bottom": null,
            "_model_module": "@jupyter-widgets/base",
            "top": null,
            "grid_column": null,
            "overflow_y": null,
            "overflow_x": null,
            "grid_auto_flow": null,
            "grid_area": null,
            "grid_template_columns": null,
            "flex": null,
            "_model_name": "LayoutModel",
            "justify_items": null,
            "grid_row": null,
            "max_height": null,
            "align_content": null,
            "visibility": null,
            "align_self": null,
            "height": null,
            "min_height": null,
            "padding": null,
            "grid_auto_rows": null,
            "grid_gap": null,
            "max_width": null,
            "order": null,
            "_view_module_version": "1.2.0",
            "grid_template_areas": null,
            "object_position": null,
            "object_fit": null,
            "grid_auto_columns": null,
            "margin": null,
            "display": null,
            "left": null
          }
        },
        "5a7df87d05644495bd30603eded3cea8": {
          "model_module": "@jupyter-widgets/controls",
          "model_name": "HBoxModel",
          "state": {
            "_view_name": "HBoxView",
            "_dom_classes": [],
            "_model_name": "HBoxModel",
            "_view_module": "@jupyter-widgets/controls",
            "_model_module_version": "1.5.0",
            "_view_count": null,
            "_view_module_version": "1.5.0",
            "box_style": "",
            "layout": "IPY_MODEL_c10f745954bc4f859da8cd788ca255c8",
            "_model_module": "@jupyter-widgets/controls",
            "children": [
              "IPY_MODEL_e8bd459136d44db1b9663b5d00a9ffaa",
              "IPY_MODEL_c7de0a0e76c749f6b71480d437cad8cf"
            ]
          }
        },
        "c10f745954bc4f859da8cd788ca255c8": {
          "model_module": "@jupyter-widgets/base",
          "model_name": "LayoutModel",
          "state": {
            "_view_name": "LayoutView",
            "grid_template_rows": null,
            "right": null,
            "justify_content": null,
            "_view_module": "@jupyter-widgets/base",
            "overflow": null,
            "_model_module_version": "1.2.0",
            "_view_count": null,
            "flex_flow": null,
            "width": null,
            "min_width": null,
            "border": null,
            "align_items": null,
            "bottom": null,
            "_model_module": "@jupyter-widgets/base",
            "top": null,
            "grid_column": null,
            "overflow_y": null,
            "overflow_x": null,
            "grid_auto_flow": null,
            "grid_area": null,
            "grid_template_columns": null,
            "flex": null,
            "_model_name": "LayoutModel",
            "justify_items": null,
            "grid_row": null,
            "max_height": null,
            "align_content": null,
            "visibility": null,
            "align_self": null,
            "height": null,
            "min_height": null,
            "padding": null,
            "grid_auto_rows": null,
            "grid_gap": null,
            "max_width": null,
            "order": null,
            "_view_module_version": "1.2.0",
            "grid_template_areas": null,
            "object_position": null,
            "object_fit": null,
            "grid_auto_columns": null,
            "margin": null,
            "display": null,
            "left": null
          }
        },
        "e8bd459136d44db1b9663b5d00a9ffaa": {
          "model_module": "@jupyter-widgets/controls",
          "model_name": "FloatProgressModel",
          "state": {
            "_view_name": "ProgressView",
            "style": "IPY_MODEL_abfc4299b41142989f96b35b53fbe3a5",
            "_dom_classes": [],
            "description": "[Train] Loss: 0.53: 100%",
            "_model_name": "FloatProgressModel",
            "bar_style": "success",
            "max": 158,
            "_view_module": "@jupyter-widgets/controls",
            "_model_module_version": "1.5.0",
            "value": 158,
            "_view_count": null,
            "_view_module_version": "1.5.0",
            "orientation": "horizontal",
            "min": 0,
            "description_tooltip": null,
            "_model_module": "@jupyter-widgets/controls",
            "layout": "IPY_MODEL_f3c8ad9a822742f0acb48498fd8f4071"
          }
        },
        "c7de0a0e76c749f6b71480d437cad8cf": {
          "model_module": "@jupyter-widgets/controls",
          "model_name": "HTMLModel",
          "state": {
            "_view_name": "HTMLView",
            "style": "IPY_MODEL_e74ce19fd5424dc0a13f2780bd67e16e",
            "_dom_classes": [],
            "description": "",
            "_model_name": "HTMLModel",
            "placeholder": "​",
            "_view_module": "@jupyter-widgets/controls",
            "_model_module_version": "1.5.0",
            "value": " 158/158 [03:24&lt;00:00,  1.29s/it]",
            "_view_count": null,
            "_view_module_version": "1.5.0",
            "description_tooltip": null,
            "_model_module": "@jupyter-widgets/controls",
            "layout": "IPY_MODEL_1b0d2a5165a54ec0be3db59c39622cd6"
          }
        },
        "abfc4299b41142989f96b35b53fbe3a5": {
          "model_module": "@jupyter-widgets/controls",
          "model_name": "ProgressStyleModel",
          "state": {
            "_view_name": "StyleView",
            "_model_name": "ProgressStyleModel",
            "description_width": "initial",
            "_view_module": "@jupyter-widgets/base",
            "_model_module_version": "1.5.0",
            "_view_count": null,
            "_view_module_version": "1.2.0",
            "bar_color": null,
            "_model_module": "@jupyter-widgets/controls"
          }
        },
        "f3c8ad9a822742f0acb48498fd8f4071": {
          "model_module": "@jupyter-widgets/base",
          "model_name": "LayoutModel",
          "state": {
            "_view_name": "LayoutView",
            "grid_template_rows": null,
            "right": null,
            "justify_content": null,
            "_view_module": "@jupyter-widgets/base",
            "overflow": null,
            "_model_module_version": "1.2.0",
            "_view_count": null,
            "flex_flow": null,
            "width": null,
            "min_width": null,
            "border": null,
            "align_items": null,
            "bottom": null,
            "_model_module": "@jupyter-widgets/base",
            "top": null,
            "grid_column": null,
            "overflow_y": null,
            "overflow_x": null,
            "grid_auto_flow": null,
            "grid_area": null,
            "grid_template_columns": null,
            "flex": null,
            "_model_name": "LayoutModel",
            "justify_items": null,
            "grid_row": null,
            "max_height": null,
            "align_content": null,
            "visibility": null,
            "align_self": null,
            "height": null,
            "min_height": null,
            "padding": null,
            "grid_auto_rows": null,
            "grid_gap": null,
            "max_width": null,
            "order": null,
            "_view_module_version": "1.2.0",
            "grid_template_areas": null,
            "object_position": null,
            "object_fit": null,
            "grid_auto_columns": null,
            "margin": null,
            "display": null,
            "left": null
          }
        },
        "e74ce19fd5424dc0a13f2780bd67e16e": {
          "model_module": "@jupyter-widgets/controls",
          "model_name": "DescriptionStyleModel",
          "state": {
            "_view_name": "StyleView",
            "_model_name": "DescriptionStyleModel",
            "description_width": "",
            "_view_module": "@jupyter-widgets/base",
            "_model_module_version": "1.5.0",
            "_view_count": null,
            "_view_module_version": "1.2.0",
            "_model_module": "@jupyter-widgets/controls"
          }
        },
        "1b0d2a5165a54ec0be3db59c39622cd6": {
          "model_module": "@jupyter-widgets/base",
          "model_name": "LayoutModel",
          "state": {
            "_view_name": "LayoutView",
            "grid_template_rows": null,
            "right": null,
            "justify_content": null,
            "_view_module": "@jupyter-widgets/base",
            "overflow": null,
            "_model_module_version": "1.2.0",
            "_view_count": null,
            "flex_flow": null,
            "width": null,
            "min_width": null,
            "border": null,
            "align_items": null,
            "bottom": null,
            "_model_module": "@jupyter-widgets/base",
            "top": null,
            "grid_column": null,
            "overflow_y": null,
            "overflow_x": null,
            "grid_auto_flow": null,
            "grid_area": null,
            "grid_template_columns": null,
            "flex": null,
            "_model_name": "LayoutModel",
            "justify_items": null,
            "grid_row": null,
            "max_height": null,
            "align_content": null,
            "visibility": null,
            "align_self": null,
            "height": null,
            "min_height": null,
            "padding": null,
            "grid_auto_rows": null,
            "grid_gap": null,
            "max_width": null,
            "order": null,
            "_view_module_version": "1.2.0",
            "grid_template_areas": null,
            "object_position": null,
            "object_fit": null,
            "grid_auto_columns": null,
            "margin": null,
            "display": null,
            "left": null
          }
        },
        "574f3b90f5ff401b8d22805bc32d1f34": {
          "model_module": "@jupyter-widgets/controls",
          "model_name": "HBoxModel",
          "state": {
            "_view_name": "HBoxView",
            "_dom_classes": [],
            "_model_name": "HBoxModel",
            "_view_module": "@jupyter-widgets/controls",
            "_model_module_version": "1.5.0",
            "_view_count": null,
            "_view_module_version": "1.5.0",
            "box_style": "",
            "layout": "IPY_MODEL_2580cb57e7164f909cb66e5f5e976fc4",
            "_model_module": "@jupyter-widgets/controls",
            "children": [
              "IPY_MODEL_21ca2aea04a146de8aaeb403e2da0afe",
              "IPY_MODEL_93a832fc94cf47e7bad1c1bb8074efb1"
            ]
          }
        },
        "2580cb57e7164f909cb66e5f5e976fc4": {
          "model_module": "@jupyter-widgets/base",
          "model_name": "LayoutModel",
          "state": {
            "_view_name": "LayoutView",
            "grid_template_rows": null,
            "right": null,
            "justify_content": null,
            "_view_module": "@jupyter-widgets/base",
            "overflow": null,
            "_model_module_version": "1.2.0",
            "_view_count": null,
            "flex_flow": null,
            "width": null,
            "min_width": null,
            "border": null,
            "align_items": null,
            "bottom": null,
            "_model_module": "@jupyter-widgets/base",
            "top": null,
            "grid_column": null,
            "overflow_y": null,
            "overflow_x": null,
            "grid_auto_flow": null,
            "grid_area": null,
            "grid_template_columns": null,
            "flex": null,
            "_model_name": "LayoutModel",
            "justify_items": null,
            "grid_row": null,
            "max_height": null,
            "align_content": null,
            "visibility": null,
            "align_self": null,
            "height": null,
            "min_height": null,
            "padding": null,
            "grid_auto_rows": null,
            "grid_gap": null,
            "max_width": null,
            "order": null,
            "_view_module_version": "1.2.0",
            "grid_template_areas": null,
            "object_position": null,
            "object_fit": null,
            "grid_auto_columns": null,
            "margin": null,
            "display": null,
            "left": null
          }
        },
        "21ca2aea04a146de8aaeb403e2da0afe": {
          "model_module": "@jupyter-widgets/controls",
          "model_name": "FloatProgressModel",
          "state": {
            "_view_name": "ProgressView",
            "style": "IPY_MODEL_3f716d715cbd4653af79fb8dbbe27b98",
            "_dom_classes": [],
            "description": "[Val] Loss: 0.48, OA: 79.67: 100%",
            "_model_name": "FloatProgressModel",
            "bar_style": "success",
            "max": 28,
            "_view_module": "@jupyter-widgets/controls",
            "_model_module_version": "1.5.0",
            "value": 28,
            "_view_count": null,
            "_view_module_version": "1.5.0",
            "orientation": "horizontal",
            "min": 0,
            "description_tooltip": null,
            "_model_module": "@jupyter-widgets/controls",
            "layout": "IPY_MODEL_73836a99177541b18b35b7726ba43b19"
          }
        },
        "93a832fc94cf47e7bad1c1bb8074efb1": {
          "model_module": "@jupyter-widgets/controls",
          "model_name": "HTMLModel",
          "state": {
            "_view_name": "HTMLView",
            "style": "IPY_MODEL_b4735cf6bd3f448d9efa7ac1f08e73d8",
            "_dom_classes": [],
            "description": "",
            "_model_name": "HTMLModel",
            "placeholder": "​",
            "_view_module": "@jupyter-widgets/controls",
            "_model_module_version": "1.5.0",
            "value": " 28/28 [00:31&lt;00:00,  1.13s/it]",
            "_view_count": null,
            "_view_module_version": "1.5.0",
            "description_tooltip": null,
            "_model_module": "@jupyter-widgets/controls",
            "layout": "IPY_MODEL_fe1483bdd5bb44b39f864da58090df0a"
          }
        },
        "3f716d715cbd4653af79fb8dbbe27b98": {
          "model_module": "@jupyter-widgets/controls",
          "model_name": "ProgressStyleModel",
          "state": {
            "_view_name": "StyleView",
            "_model_name": "ProgressStyleModel",
            "description_width": "initial",
            "_view_module": "@jupyter-widgets/base",
            "_model_module_version": "1.5.0",
            "_view_count": null,
            "_view_module_version": "1.2.0",
            "bar_color": null,
            "_model_module": "@jupyter-widgets/controls"
          }
        },
        "73836a99177541b18b35b7726ba43b19": {
          "model_module": "@jupyter-widgets/base",
          "model_name": "LayoutModel",
          "state": {
            "_view_name": "LayoutView",
            "grid_template_rows": null,
            "right": null,
            "justify_content": null,
            "_view_module": "@jupyter-widgets/base",
            "overflow": null,
            "_model_module_version": "1.2.0",
            "_view_count": null,
            "flex_flow": null,
            "width": null,
            "min_width": null,
            "border": null,
            "align_items": null,
            "bottom": null,
            "_model_module": "@jupyter-widgets/base",
            "top": null,
            "grid_column": null,
            "overflow_y": null,
            "overflow_x": null,
            "grid_auto_flow": null,
            "grid_area": null,
            "grid_template_columns": null,
            "flex": null,
            "_model_name": "LayoutModel",
            "justify_items": null,
            "grid_row": null,
            "max_height": null,
            "align_content": null,
            "visibility": null,
            "align_self": null,
            "height": null,
            "min_height": null,
            "padding": null,
            "grid_auto_rows": null,
            "grid_gap": null,
            "max_width": null,
            "order": null,
            "_view_module_version": "1.2.0",
            "grid_template_areas": null,
            "object_position": null,
            "object_fit": null,
            "grid_auto_columns": null,
            "margin": null,
            "display": null,
            "left": null
          }
        },
        "b4735cf6bd3f448d9efa7ac1f08e73d8": {
          "model_module": "@jupyter-widgets/controls",
          "model_name": "DescriptionStyleModel",
          "state": {
            "_view_name": "StyleView",
            "_model_name": "DescriptionStyleModel",
            "description_width": "",
            "_view_module": "@jupyter-widgets/base",
            "_model_module_version": "1.5.0",
            "_view_count": null,
            "_view_module_version": "1.2.0",
            "_model_module": "@jupyter-widgets/controls"
          }
        },
        "fe1483bdd5bb44b39f864da58090df0a": {
          "model_module": "@jupyter-widgets/base",
          "model_name": "LayoutModel",
          "state": {
            "_view_name": "LayoutView",
            "grid_template_rows": null,
            "right": null,
            "justify_content": null,
            "_view_module": "@jupyter-widgets/base",
            "overflow": null,
            "_model_module_version": "1.2.0",
            "_view_count": null,
            "flex_flow": null,
            "width": null,
            "min_width": null,
            "border": null,
            "align_items": null,
            "bottom": null,
            "_model_module": "@jupyter-widgets/base",
            "top": null,
            "grid_column": null,
            "overflow_y": null,
            "overflow_x": null,
            "grid_auto_flow": null,
            "grid_area": null,
            "grid_template_columns": null,
            "flex": null,
            "_model_name": "LayoutModel",
            "justify_items": null,
            "grid_row": null,
            "max_height": null,
            "align_content": null,
            "visibility": null,
            "align_self": null,
            "height": null,
            "min_height": null,
            "padding": null,
            "grid_auto_rows": null,
            "grid_gap": null,
            "max_width": null,
            "order": null,
            "_view_module_version": "1.2.0",
            "grid_template_areas": null,
            "object_position": null,
            "object_fit": null,
            "grid_auto_columns": null,
            "margin": null,
            "display": null,
            "left": null
          }
        }
      }
    }
  },
  "cells": [
    {
      "cell_type": "code",
      "metadata": {
        "id": "aUYrzQshjiE7"
      },
      "source": [
        ""
      ],
      "execution_count": null,
      "outputs": []
    },
    {
      "cell_type": "markdown",
      "metadata": {
        "id": "jaCFt0H1i8yx"
      },
      "source": [
        "# Semantic Segmentation of Remote Sensing imagery with Deep Learning\n",
        "\n",
        "In this tutorial, we will be training and validating a deep learning (DL) model for semantic image segmentation (*i.e.*, pixel-wise classification) of remote sensing imagery. This tutorial contains the following entities:\n",
        "\n",
        "\n",
        "*   Dataset: [ISPRS Vaihingen](https://www2.isprs.org/commissions/comm2/wg4/benchmark/2d-sem-label-vaihingen/), 9cm resolution, IR-R-G + DSM + nDSM\n",
        "*   Model: [U-Net](https://link.springer.com/chapter/10.1007/978-3-319-24574-4_28), a high-performing model for semantic image segmentation. U-Net was originally proposed for grayscale medical images, but we will adapt it to work on our remote sensing images with six bands.\n",
        "*   DL library: [PyTorch](https://pytorch.org/), developed by facebook and one of the most popular out there.\n",
        "\n",
        "Let us first install some required dependencies."
      ]
    },
    {
      "cell_type": "code",
      "metadata": {
        "colab": {
          "base_uri": "https://localhost:8080/"
        },
        "id": "P7uart6Fkc7s",
        "outputId": "752a8798-4356-4522-b331-351ee1d28334"
      },
      "source": [
        "# PyTorch\n",
        "!pip install torch==1.8.1+cu111 torchvision==0.9.1+cu111 torchaudio==0.8.1 -f https://download.pytorch.org/whl/torch_stable.html\n",
        "\n",
        "# for downloading files from Google drive\n",
        "!pip install gdown\n",
        "\n",
        "# a nice progress bar\n",
        "!pip install tqdm"
      ],
      "execution_count": 10,
      "outputs": [
        {
          "output_type": "stream",
          "text": [
            "Looking in links: https://download.pytorch.org/whl/torch_stable.html\n",
            "Collecting torch==1.8.1+cu111\n",
            "\u001b[?25l  Downloading https://download.pytorch.org/whl/cu111/torch-1.8.1%2Bcu111-cp37-cp37m-linux_x86_64.whl (1982.2MB)\n",
            "\u001b[K     |█████████████▌                  | 834.1MB 56.1MB/s eta 0:00:21tcmalloc: large alloc 1147494400 bytes == 0x5612005c2000 @  0x7f1a0fcd7615 0x5611c76cfcdc 0x5611c77af52a 0x5611c76d2afd 0x5611c77c3fed 0x5611c7746988 0x5611c77414ae 0x5611c76d43ea 0x5611c77467f0 0x5611c77414ae 0x5611c76d43ea 0x5611c774332a 0x5611c77c4e36 0x5611c7742853 0x5611c77c4e36 0x5611c7742853 0x5611c77c4e36 0x5611c7742853 0x5611c77c4e36 0x5611c78473e1 0x5611c77a76a9 0x5611c7712cc4 0x5611c76d3559 0x5611c77474f8 0x5611c76d430a 0x5611c77423b5 0x5611c77417ad 0x5611c76d43ea 0x5611c77423b5 0x5611c76d430a 0x5611c77423b5\n",
            "\u001b[K     |█████████████████               | 1055.7MB 1.4MB/s eta 0:11:16tcmalloc: large alloc 1434370048 bytes == 0x561244c18000 @  0x7f1a0fcd7615 0x5611c76cfcdc 0x5611c77af52a 0x5611c76d2afd 0x5611c77c3fed 0x5611c7746988 0x5611c77414ae 0x5611c76d43ea 0x5611c77467f0 0x5611c77414ae 0x5611c76d43ea 0x5611c774332a 0x5611c77c4e36 0x5611c7742853 0x5611c77c4e36 0x5611c7742853 0x5611c77c4e36 0x5611c7742853 0x5611c77c4e36 0x5611c78473e1 0x5611c77a76a9 0x5611c7712cc4 0x5611c76d3559 0x5611c77474f8 0x5611c76d430a 0x5611c77423b5 0x5611c77417ad 0x5611c76d43ea 0x5611c77423b5 0x5611c76d430a 0x5611c77423b5\n",
            "\u001b[K     |█████████████████████▋          | 1336.2MB 1.3MB/s eta 0:08:35tcmalloc: large alloc 1792966656 bytes == 0x5611c9a4a000 @  0x7f1a0fcd7615 0x5611c76cfcdc 0x5611c77af52a 0x5611c76d2afd 0x5611c77c3fed 0x5611c7746988 0x5611c77414ae 0x5611c76d43ea 0x5611c77467f0 0x5611c77414ae 0x5611c76d43ea 0x5611c774332a 0x5611c77c4e36 0x5611c7742853 0x5611c77c4e36 0x5611c7742853 0x5611c77c4e36 0x5611c7742853 0x5611c77c4e36 0x5611c78473e1 0x5611c77a76a9 0x5611c7712cc4 0x5611c76d3559 0x5611c77474f8 0x5611c76d430a 0x5611c77423b5 0x5611c77417ad 0x5611c76d43ea 0x5611c77423b5 0x5611c76d430a 0x5611c77423b5\n",
            "\u001b[K     |███████████████████████████▎    | 1691.1MB 1.4MB/s eta 0:03:30tcmalloc: large alloc 2241208320 bytes == 0x561234832000 @  0x7f1a0fcd7615 0x5611c76cfcdc 0x5611c77af52a 0x5611c76d2afd 0x5611c77c3fed 0x5611c7746988 0x5611c77414ae 0x5611c76d43ea 0x5611c77467f0 0x5611c77414ae 0x5611c76d43ea 0x5611c774332a 0x5611c77c4e36 0x5611c7742853 0x5611c77c4e36 0x5611c7742853 0x5611c77c4e36 0x5611c7742853 0x5611c77c4e36 0x5611c78473e1 0x5611c77a76a9 0x5611c7712cc4 0x5611c76d3559 0x5611c77474f8 0x5611c76d430a 0x5611c77423b5 0x5611c77417ad 0x5611c76d43ea 0x5611c77423b5 0x5611c76d430a 0x5611c77423b5\n",
            "\u001b[K     |████████████████████████████████| 1982.2MB 1.2MB/s eta 0:00:01tcmalloc: large alloc 1982177280 bytes == 0x5612ba194000 @  0x7f1a0fcd61e7 0x5611c7705f37 0x5611c76cfcdc 0x5611c77af52a 0x5611c76d2afd 0x5611c77c3fed 0x5611c7746988 0x5611c77414ae 0x5611c76d43ea 0x5611c774260e 0x5611c77414ae 0x5611c76d43ea 0x5611c774260e 0x5611c77414ae 0x5611c76d43ea 0x5611c774260e 0x5611c77414ae 0x5611c76d43ea 0x5611c774260e 0x5611c77414ae 0x5611c76d43ea 0x5611c774260e 0x5611c76d430a 0x5611c774260e 0x5611c77414ae 0x5611c76d43ea 0x5611c774332a 0x5611c77414ae 0x5611c76d43ea 0x5611c774332a 0x5611c77414ae\n",
            "tcmalloc: large alloc 2477727744 bytes == 0x5613a48b0000 @  0x7f1a0fcd7615 0x5611c76cfcdc 0x5611c77af52a 0x5611c76d2afd 0x5611c77c3fed 0x5611c7746988 0x5611c77414ae 0x5611c76d43ea 0x5611c774260e 0x5611c77414ae 0x5611c76d43ea 0x5611c774260e 0x5611c77414ae 0x5611c76d43ea 0x5611c774260e 0x5611c77414ae 0x5611c76d43ea 0x5611c774260e 0x5611c77414ae 0x5611c76d43ea 0x5611c774260e 0x5611c76d430a 0x5611c774260e 0x5611c77414ae 0x5611c76d43ea 0x5611c774332a 0x5611c77414ae 0x5611c76d43ea 0x5611c774332a 0x5611c77414ae 0x5611c76d4a81\n",
            "\u001b[K     |████████████████████████████████| 1982.2MB 3.9kB/s \n",
            "\u001b[?25hCollecting torchvision==0.9.1+cu111\n",
            "\u001b[?25l  Downloading https://download.pytorch.org/whl/cu111/torchvision-0.9.1%2Bcu111-cp37-cp37m-linux_x86_64.whl (17.6MB)\n",
            "\u001b[K     |████████████████████████████████| 17.6MB 201kB/s \n",
            "\u001b[?25hCollecting torchaudio==0.8.1\n",
            "\u001b[?25l  Downloading https://files.pythonhosted.org/packages/aa/55/01ad9244bcd595e39cea5ce30726a7fe02fd963d07daeb136bfe7e23f0a5/torchaudio-0.8.1-cp37-cp37m-manylinux1_x86_64.whl (1.9MB)\n",
            "\u001b[K     |████████████████████████████████| 1.9MB 33.5MB/s \n",
            "\u001b[?25hRequirement already satisfied: typing-extensions in /usr/local/lib/python3.7/dist-packages (from torch==1.8.1+cu111) (3.7.4.3)\n",
            "Requirement already satisfied: numpy in /usr/local/lib/python3.7/dist-packages (from torch==1.8.1+cu111) (1.19.5)\n",
            "Requirement already satisfied: pillow>=4.1.1 in /usr/local/lib/python3.7/dist-packages (from torchvision==0.9.1+cu111) (7.1.2)\n",
            "Installing collected packages: torch, torchvision, torchaudio\n",
            "  Found existing installation: torch 1.8.1+cu101\n",
            "    Uninstalling torch-1.8.1+cu101:\n",
            "      Successfully uninstalled torch-1.8.1+cu101\n",
            "  Found existing installation: torchvision 0.9.1+cu101\n",
            "    Uninstalling torchvision-0.9.1+cu101:\n",
            "      Successfully uninstalled torchvision-0.9.1+cu101\n",
            "Successfully installed torch-1.8.1+cu111 torchaudio-0.8.1 torchvision-0.9.1+cu111\n",
            "Requirement already satisfied: gdown in /usr/local/lib/python3.7/dist-packages (3.6.4)\n",
            "Requirement already satisfied: requests in /usr/local/lib/python3.7/dist-packages (from gdown) (2.23.0)\n",
            "Requirement already satisfied: six in /usr/local/lib/python3.7/dist-packages (from gdown) (1.15.0)\n",
            "Requirement already satisfied: tqdm in /usr/local/lib/python3.7/dist-packages (from gdown) (4.41.1)\n",
            "Requirement already satisfied: chardet<4,>=3.0.2 in /usr/local/lib/python3.7/dist-packages (from requests->gdown) (3.0.4)\n",
            "Requirement already satisfied: certifi>=2017.4.17 in /usr/local/lib/python3.7/dist-packages (from requests->gdown) (2020.12.5)\n",
            "Requirement already satisfied: idna<3,>=2.5 in /usr/local/lib/python3.7/dist-packages (from requests->gdown) (2.10)\n",
            "Requirement already satisfied: urllib3!=1.25.0,!=1.25.1,<1.26,>=1.21.1 in /usr/local/lib/python3.7/dist-packages (from requests->gdown) (1.24.3)\n",
            "Requirement already satisfied: tqdm in /usr/local/lib/python3.7/dist-packages (4.41.1)\n"
          ],
          "name": "stdout"
        }
      ]
    },
    {
      "cell_type": "markdown",
      "metadata": {
        "id": "9039rf1mk_CK"
      },
      "source": [
        "## Theoretical basics behind deep learning model training\n",
        "\n",
        "The basic ingredients for DL learning models are very similar to more conventional machine learning (ML) models and include:\n",
        "\n",
        "\n",
        "*   A dataset of data (X) and label (Y) pairs, split into disjoint training and validation subsets;\n",
        "*   A DL model f: X → Y;\n",
        "*   A criterion that determines how well the model performs, called the Loss function: L(Y, ^Y). The standard for classification (incl. semantic segmentation) is the Softmax-Cross Entropy loss, which we will use below;\n",
        "*   An optimizer that updates the model's parameters during training.\n",
        "\n",
        "\n",
        "Unlike conventional ML methods like random forest, DL models adapt to the data in small steps by following the gradient of the loss to the next possible minimum, done via [backpropagation](https://labs.utdallas.edu/app/uploads/sites/71/2020/12/BackpropagationTheBasicTheory.pdf). The model basically follows the direction of steepest descent towards the minimum of the loss value. But we don't just want to apply the gradients as-is, but dampen their effect to only progress in small steps. This is done via the **learning rate**, a hyperparameter to be set during training.\n",
        "All in all, this means that we need several passes over the full training set to achieve the best possible performance. A single pass over the dataset is called an **epoch**.\n",
        "\n",
        "Finally, even if we have a huge training dataset, it might not be enough to make the model learn all data variability. What we can do to this end is to artificially increase our dataset by generating more training samples. For example, if we have a remote sensing image, we can rotate and/or mirror it (together with the labels) and obtain a \"new\" image. This is called **data augmentation** and is used in virtually every DL model. In this tutorial, we omit data augmentation for brevity reasons.\n",
        "\n",
        "\n",
        "---\n",
        "\n",
        "We will implement each of the ingredients below."
      ]
    },
    {
      "cell_type": "markdown",
      "metadata": {
        "id": "HpphoV91qn1I"
      },
      "source": [
        "# Load dataset\n",
        "Let's start by loading our dataset. In PyTorch, this is best achieved with a Dataset class that loads data-label pairs. In our case, these are image tiles and segmentation masks.\n",
        "However, datasets for DL models are usually so big that we cannot store them completely in memory. For this reason, we only store the file names for the images and segmentation masks and load the actual images whenever needed. This is done in the `__getitem__` function as you will see below."
      ]
    },
    {
      "cell_type": "code",
      "metadata": {
        "id": "WFrYDQFOnWGf"
      },
      "source": [
        "import torch\n",
        "from torch.utils.data import dataset\n",
        "import torchvision.transforms as T      # transformations that can be used e.g. for data conversion or augmentation\n",
        "import numpy as np\n",
        "from PIL import Image\n",
        "\n",
        "\n",
        "class VaihingenDataset(dataset.Dataset):\n",
        "    '''\n",
        "        Custom Dataset class that loads images and ground truth segmentation\n",
        "        masks from a directory.\n",
        "    '''\n",
        "\n",
        "    # image statistics, calculated in advance as averages across the full\n",
        "    # training data set\n",
        "    IMAGE_MEANS = (\n",
        "        (121.03431026287558, 82.52572736507886, 81.92368178210943),     # IR-R-G tiles\n",
        "        (285.34753853934154),                                           # DSM\n",
        "        (31.005143030549313)                                            # nDSM\n",
        "    )\n",
        "    IMAGE_STDS = (\n",
        "        (54.21029197978022, 38.434924159900554, 37.040640374137475),    # IR-R-G tiles\n",
        "        (6.485453035150256),                                            # DSM\n",
        "        (36.040236155124326)                                            # nDSM\n",
        "    )\n",
        "\n",
        "    def __init__(self, data_root):\n",
        "        '''\n",
        "            Dataset class constructor. Here we initialize the dataset instance\n",
        "            and retrieve file names (and other metadata, if present) for all the\n",
        "            images and labels (ground truth semantic segmentation maps).\n",
        "        '''\n",
        "        super().__init__()\n",
        "\n",
        "        self.data_root = data_root\n",
        "\n",
        "        # find all images. In our case they are listed in a CSV file called\n",
        "        # \"fileList.csv\" under the \"data_root\"\n",
        "        with open(os.path.join(self.data_root, 'fileList.csv'), 'r') as f:\n",
        "            lines = f.readlines()\n",
        "        \n",
        "        # parse CSV lines into data tokens: first column is the label file, the\n",
        "        # remaining ones are the image files\n",
        "        self.data = []\n",
        "        for line in lines[1:]:      # skip header\n",
        "            self.data.append(line.strip().split(','))\n",
        "\n",
        "\n",
        "    def __len__(self):\n",
        "        '''\n",
        "            This function tells the Data Loader how many images there are in\n",
        "            this dataset.\n",
        "        '''\n",
        "        return len(self.data)\n",
        "\n",
        "    \n",
        "    def __getitem__(self, idx):\n",
        "        '''\n",
        "            Here's where we load, prepare, and convert the images and\n",
        "            segmentation mask for the data element at the given \"idx\".\n",
        "        '''\n",
        "        item = self.data[idx]\n",
        "\n",
        "        # load segmentation mask (remember: first column of CSV file)\n",
        "        labels = Image.open(os.path.join(self.data_root, 'labels', item[0]))\n",
        "        labels = np.array(labels, dtype=np.int64)   # convert to NumPy array temporarily\n",
        "\n",
        "        # load all images (remaining columns of CSV file)\n",
        "        images = [Image.open(os.path.join(self.data_root, 'images', i)) for i in item[1:]]\n",
        "\n",
        "        # NOTE: at this point it would make sense to perform data augmentation.\n",
        "        # However, the default augmentations built-in to PyTorch (resp.\n",
        "        # Torchvision) (i.) only support RGB images; (ii.) only work on the\n",
        "        # images themselves. In our case, however, we have multispectral data\n",
        "        # and need to also transform the segmentation mask.\n",
        "        # This is not difficult to do, but goes beyond the scope of this tutorial.\n",
        "        # For the sake of brevity, we'll leave it out accordingly.\n",
        "        # What we will have to do, however, is to normalize the image data.\n",
        "        for i in range(len(images)):\n",
        "            img = np.array(images[i], dtype=np.float32)                 # convert to NumPy array (very similar to torch.Tensor below)\n",
        "            img = (img - self.IMAGE_MEANS[i]) / self.IMAGE_STDS[i]      # normalize\n",
        "            images[i] = img\n",
        "\n",
        "        # finally, we need to convert our data into the torch.Tensor format. For\n",
        "        # the images, we already have a \"ToTensor\" transform available, but we\n",
        "        # need to concatenate the images together.\n",
        "        tensors = [T.ToTensor()(i) for i in images]\n",
        "        tensors = torch.cat(tensors, dim=0).float()         # concatenate along spectral dimension and make sure it's in 32-bit floating point\n",
        "\n",
        "        # For the labels, we need to convert the PIL image to a torch.Tensor.\n",
        "        labels = torch.from_numpy(labels).long()            # labels need to be in 64-bit integer format\n",
        "\n",
        "        return tensors, labels"
      ],
      "execution_count": 35,
      "outputs": []
    },
    {
      "cell_type": "markdown",
      "metadata": {
        "id": "o-F_rM3ln6k7"
      },
      "source": [
        "And now, we can call this dataset through a PyTorch `DataLoader`. This is a helper class that allows loading images and labels efficiently, with multi-threading, on the CPU, while the model is training along on the GPU."
      ]
    },
    {
      "cell_type": "code",
      "metadata": {
        "id": "ivLbniQ0oALY"
      },
      "source": [
        "from torch.utils.data import dataloader\n",
        "\n",
        "\n",
        "def load_dataset(data_root, split='train', batch_size=8):\n",
        "    \n",
        "    # initialize dataset\n",
        "    dataset = VaihingenDataset(f'{data_root}/{split.lower()}')\n",
        "\n",
        "    # initialize and return Data Loader\n",
        "    dataLoader = dataloader.DataLoader(\n",
        "        dataset,\n",
        "        batch_size=batch_size,              # define your batch size here\n",
        "        shuffle=(split=='train'),           # randomize image order (for training only)\n",
        "        num_workers=2                       # multi-threading for maximum performance when loading data\n",
        "    )\n",
        "    return dataLoader"
      ],
      "execution_count": 39,
      "outputs": []
    },
    {
      "cell_type": "markdown",
      "metadata": {
        "id": "jF359aRH66qg"
      },
      "source": [
        "Before being able to do so, however, we actually need our data. We cannot just feed huge images into a DL model, or our GPU will go out of memory. Instead, we want to split our remote sensing imagery and segmentation masks (ground truth) into smaller paches (say, 800x600 pixels) and process each one individually. I have prepared this for you; all we need to do is to download the data."
      ]
    },
    {
      "cell_type": "code",
      "metadata": {
        "colab": {
          "base_uri": "https://localhost:8080/"
        },
        "id": "zsuNzaU07RAC",
        "outputId": "321c570c-cef9-4ae4-a27e-db12ba1d6e01"
      },
      "source": [
        "# download prepared Vaihingen dataset\n",
        "!gdown --id 1S8oCD1fK4_l2L6lYwuHOHcNtKhRYg19b\n",
        "\n",
        "!tar -xf /content/vaihingen_512x512_full.tar.gz\n",
        "data_root = '/content/dataset_512x512_full'"
      ],
      "execution_count": 6,
      "outputs": [
        {
          "output_type": "stream",
          "text": [
            "Downloading...\n",
            "From: https://drive.google.com/uc?id=1S8oCD1fK4_l2L6lYwuHOHcNtKhRYg19b\n",
            "To: /content/vaihingen_512x512_full.tar.gz\n",
            "853MB [00:04, 180MB/s]\n"
          ],
          "name": "stdout"
        }
      ]
    },
    {
      "cell_type": "markdown",
      "metadata": {
        "id": "KwhZgsfznepE"
      },
      "source": [
        "# Create DL model\n",
        "\n",
        "Now, we have to define how our model works. We basically need to tell PyTorch what a U-Net is. This involves:\n",
        "\n",
        "*   which layers (and layer parameters) it has,\n",
        "*   in which order the layers are to be executed (the `forward` pass).\n",
        "\n",
        "Luckily, we do not need to implement the backward pass and all the intermediate gradients – PyTorch does this for us, all automatically in the background!\n",
        "\n",
        "Like for the dataset, we will implement U-Net as a dedicated class that PyTorch understands.\n"
      ]
    },
    {
      "cell_type": "code",
      "metadata": {
        "id": "G274DOcOrTAC"
      },
      "source": [
        "import torch.nn as nn     # Neural Network functionality of PyTorch\n",
        "\n",
        "\n",
        "class UNet(nn.Module):\n",
        "    '''\n",
        "        Simple U-Net definition in PyTorch.\n",
        "        Adapted and modified from https://github.com/usuyama/pytorch-unet.\n",
        "    '''\n",
        "\n",
        "    def __init__(self, num_classes, num_input_channels=3):\n",
        "        '''\n",
        "            Constructor. Here, we define the layers this U-Net class will\n",
        "            contain.\n",
        "        '''\n",
        "        super().__init__()\n",
        "        \n",
        "        self.dconv_down1 = UNet.double_conv(num_input_channels, 64)     # allow multispectral inputs\n",
        "        self.dconv_down2 = UNet.double_conv(64, 128)\n",
        "        self.dconv_down3 = UNet.double_conv(128, 256)\n",
        "        self.dconv_down4 = UNet.double_conv(256, 512)        \n",
        "\n",
        "        self.maxpool = nn.MaxPool2d(2)\n",
        "        self.upsample = nn.Upsample(scale_factor=2, mode='bilinear', align_corners=True)\n",
        "        \n",
        "        self.dconv_up3 = UNet.double_conv(256 + 512, 256)\n",
        "        self.dconv_up2 = UNet.double_conv(128 + 256, 128)\n",
        "        self.dconv_up1 = UNet.double_conv(128 + 64, 64)\n",
        "        \n",
        "        self.conv_last = nn.Conv2d(64, num_classes, 1)                  # map to number of classes\n",
        "    \n",
        "    @staticmethod\n",
        "    def double_conv(in_channels, out_channels):\n",
        "        return nn.Sequential(\n",
        "            nn.Conv2d(in_channels, out_channels, 3, padding=1),\n",
        "            nn.ReLU(inplace=True),\n",
        "            nn.Conv2d(out_channels, out_channels, 3, padding=1),\n",
        "            nn.ReLU(inplace=True)\n",
        "        ) \n",
        "        \n",
        "    def forward(self, x):\n",
        "        '''\n",
        "            Definition of the forward pass. In the constructor above, we defined\n",
        "            what layers the model has, here we specify in which order and on\n",
        "            what inputs they will be used.\n",
        "        '''\n",
        "        conv1 = self.dconv_down1(x)\n",
        "        x = self.maxpool(conv1)\n",
        "\n",
        "        conv2 = self.dconv_down2(x)\n",
        "        x = self.maxpool(conv2)\n",
        "        \n",
        "        conv3 = self.dconv_down3(x)\n",
        "        x = self.maxpool(conv3)   \n",
        "        \n",
        "        x = self.dconv_down4(x)\n",
        "        \n",
        "        x = self.upsample(x)        \n",
        "        x = torch.cat([x, conv3], dim=1)        # note that we now concatenate intermediate inputs. These are the skip connections present in U-net\n",
        "        \n",
        "        x = self.dconv_up3(x)\n",
        "        x = self.upsample(x)        \n",
        "        x = torch.cat([x, conv2], dim=1)        # same here... \n",
        "\n",
        "        x = self.dconv_up2(x)\n",
        "        x = self.upsample(x)        \n",
        "        x = torch.cat([x, conv1], dim=1)        # ...and here\n",
        "        \n",
        "        x = self.dconv_up1(x)\n",
        "        \n",
        "        out = self.conv_last(x)\n",
        "        \n",
        "        return out"
      ],
      "execution_count": 13,
      "outputs": []
    },
    {
      "cell_type": "markdown",
      "metadata": {
        "id": "f-5phjtGrf8U"
      },
      "source": [
        "Again, all that is left to do is to create a function that initializes a fresh U-Net for us:"
      ]
    },
    {
      "cell_type": "code",
      "metadata": {
        "id": "Q7snnLTVrjxW"
      },
      "source": [
        "def load_model(num_classes, num_input_channels):\n",
        "    model = UNet(num_classes, num_input_channels)\n",
        "    return model"
      ],
      "execution_count": 50,
      "outputs": []
    },
    {
      "cell_type": "markdown",
      "metadata": {
        "id": "jToL8ATfrlpx"
      },
      "source": [
        "# Optimizer\n",
        "\n",
        "As said above, this is the entity that modifies our U-Net's parameters according to the gradients and learning rate. Multiple optimizers exist, but we opt for the classical one, the **Stochastic Gradient Descent** (SGD). This requires the following inputs:\n",
        "\n",
        "\n",
        "*   The U-Net's parameters (learnable weights, biases, etc.);\n",
        "*   A learning rate value;\n",
        "*   Optionally, a **weight decay** value. Weight decay is a form of regularization. Remember how ML models can overfit if their learnable parameters can become arbitrarily big? Weight decay prevents exactly this from happening by restricting DL model parameters to not grow too large. Like the learning rate, the weight decay is a hyperparameter that has to be set manually."
      ]
    },
    {
      "cell_type": "code",
      "metadata": {
        "id": "qcUWZYQ8sTcs"
      },
      "source": [
        "import torch.optim      # implements all kinds of optimizer types\n",
        "\n",
        "\n",
        "def setup_optimizer(model, learning_rate, weight_decay):\n",
        "    optimizer = torch.optim.SGD(\n",
        "        model.parameters(),         # tell the optimizer which parameters to fine-tune\n",
        "        lr=learning_rate,\n",
        "        weight_decay=weight_decay\n",
        "    )\n",
        "    return optimizer"
      ],
      "execution_count": 15,
      "outputs": []
    },
    {
      "cell_type": "markdown",
      "metadata": {
        "id": "ry02KQeKsf7c"
      },
      "source": [
        "# Scheduler\n",
        "\n",
        "As said before, the learning rate modulates the gradients and makes sure model update steps are taken gently and appropriately.\n",
        "However, at some point we reach such a small \"valley\" in the loss landscape that our learning rate becomes too big – our model parameters \"jump\" from one state to another and back and fail to settle. At this moment we would like to reduce the learning rate to allow the model to converge even better.\n",
        "\n",
        "In PyTorch, the `Scheduler` is a handy tool that allows us to do just that: it counts all steps in our training loop and reduces the learning rate by a given factor (`gamma`) at one, or more, given steps (`milestones`)."
      ]
    },
    {
      "cell_type": "code",
      "metadata": {
        "id": "2OE2P9ARtgTF"
      },
      "source": [
        "import torch.optim.lr_scheduler\n",
        "\n",
        "\n",
        "def setup_scheduler(optimizer, milestones, gamma):\n",
        "    scheduler = torch.optim.lr_scheduler.MultiStepLR(\n",
        "        optimizer,          # the scheduler works on the optimizer directly to modify the learning rate\n",
        "        milestones,         # list of integers (iterations at which a step is taken)\n",
        "        gamma               # step value (e.g. 0.1 = divide learning rate by 10 at each milestone)\n",
        "    )\n",
        "    return scheduler"
      ],
      "execution_count": 34,
      "outputs": []
    },
    {
      "cell_type": "markdown",
      "metadata": {
        "id": "WUTGkFRBtjwg"
      },
      "source": [
        "# Define training loop\n",
        "\n",
        "Now for the main event: the training function. Here, we want to adapt the model to the training datasets with all the ingredients above (optimizer, scheduler, etc.). In pseudocode, this looks as follows:\n",
        "\n",
        "```python\n",
        "# we first set our hyperparameters\n",
        "learning_rate = 0.001\n",
        "weight_decay = 0.0001\n",
        "num_epochs = 10\n",
        "gamma = 0.1                    # reduce learning rate by factor 10...\n",
        "milestones = [1000, 5000]      # ...at 1000 and 5000 iterations each\n",
        "\n",
        "# next, we load our \"ingredients\"\n",
        "dataset_train = load_dataset()\n",
        "model = load_model()\n",
        "optimizer = setup_optimizer(model.parameters(), learning_rate, weight_decay)\n",
        "scheduler = setup_scheduler(optimizer, milestones, gamma)\n",
        "criterion = CrossEntropyLoss()\n",
        "\n",
        "# iterate over dataset\n",
        "for epoch in num_epochs:\n",
        "  \n",
        "  # perform training loop\n",
        "  for (images, labels) in dataset_train:\n",
        "\n",
        "    # forward pass: run images through model & obtain output\n",
        "    prediction = model(images)\n",
        "\n",
        "    # loss value: discrepancy between prediction and true labels\n",
        "    loss = criterion(prediction, labels)\n",
        "\n",
        "    # backward pass: calculate gradients for each model parameter by backpropagataion\n",
        "    loss.backward()\n",
        "\n",
        "    # learning step: modify model parameters w.r.t. gradients and learning rate\n",
        "    optimizer.step()\n",
        "\n",
        "    # tell the scheduler we just completed an iteration, too\n",
        "    scheduler.step()\n",
        "```\n",
        "\n",
        "And that's basically it! We will add some extra garnish below, such as a progress bar and bookkeeping of loss values, but other than that that's all there is. Let's implement our training function."
      ]
    },
    {
      "cell_type": "code",
      "metadata": {
        "id": "qoqS6s_5uf81"
      },
      "source": [
        "from tqdm.notebook import trange    # progress bar\n",
        "\n",
        "\n",
        "def training_epoch(dataLoader, model, optimizer, scheduler, device):\n",
        "\n",
        "    # Enable model training mode. In this mode, parameters like BatchNorm\n",
        "    # statistics are updated, dropout is applied (if specified in the model),\n",
        "    # etc.\n",
        "    model.train()\n",
        "\n",
        "    # Define loss function (\"criterion\"). We perform semantic segmentation,\n",
        "    # which basically is nothing else than pixel-wise classification. The most\n",
        "    # common loss function for this is the Softmax-Cross-Entropy loss, which\n",
        "    # PyTorch has nicely built-in already.\n",
        "    #\n",
        "    # NOTE: the Vaihingen dataset contains pixels that are unlabeled. In our\n",
        "    # preparation we assigned those the value 255. We can elegantly ignore\n",
        "    # predictions over these pixels with the \"ignore_index\" parameter.\n",
        "    criterion = nn.CrossEntropyLoss(ignore_index=255)\n",
        "\n",
        "    # Statistics: during training we want to monitor how well the model behaves,\n",
        "    # so let's track the loss value as a running average.\n",
        "    loss_total = 0.0\n",
        "\n",
        "    # We also want to see the loss value during training. For this we use helper\n",
        "    # library \"tqdm\" to create a progress bar.\n",
        "    progressBar = trange(len(dataLoader))\n",
        "\n",
        "    # Define the actual loop: one full pass through all images = one epoch\n",
        "    for index, (data, labels) in enumerate(dataLoader):\n",
        "\n",
        "        # Put data and labels onto the correct computation device. In PyTorch,\n",
        "        # the device is a string with the following possible values (examples):\n",
        "        #\n",
        "        #   \"cpu\":      use the processor and system RAM for models\n",
        "        #   \"cuda\":     use the first CUDA-enabled graphics card\n",
        "        #   \"cuda:0\"    the same as \"cuda\"\n",
        "        #   \"cuda:1\"    use the second GPU (if available)\n",
        "        #\n",
        "        # etc.\n",
        "        data, labels = data.to(device), labels.to(device)\n",
        "\n",
        "        # forward pass\n",
        "        prediction = model(data)\n",
        "\n",
        "        # calculate loss between predictions and target labels\n",
        "        loss = criterion(prediction, labels)\n",
        "        if not torch.isfinite(loss):\n",
        "            print('debug')\n",
        "\n",
        "        # set all gradient weights to zero. This is important to avoid unwanted\n",
        "        # accumulation across batches.\n",
        "        optimizer.zero_grad()\n",
        "\n",
        "        # perform backpropagation. This stores intermediate gradient values into\n",
        "        # the respective weights, but does not yet modify the model parameters.\n",
        "        loss.backward()\n",
        "\n",
        "        # now, we apply gradient values to the model parameters, w.r.t. the set\n",
        "        # learning rate, weight decay, momentum, etc.\n",
        "        optimizer.step()\n",
        "\n",
        "        # also tell the learning rate scheduler that we just finished a batch.\n",
        "        scheduler.step()\n",
        "\n",
        "        # here we update our running statistics. Our loss value is in a\n",
        "        # torch.Tensor on the GPU right now, so we cannot just add it to\n",
        "        # \"loss_total\". Instead, we need to call the .item() function to\n",
        "        # retrieve the value.\n",
        "        loss_total += loss.item()\n",
        "\n",
        "        # finally, let's print the current moving average of the loss on the\n",
        "        # progress bar.\n",
        "        progressBar.set_description(\n",
        "            '[Train] Loss: {:.2f}'.format(loss_total/(index+1))     # current average of the loss value\n",
        "        )\n",
        "        progressBar.update(1)\n",
        "    \n",
        "    # And that's it! At this point we completed one training epoch.\n",
        "    progressBar.close()\n",
        "\n",
        "    # Finalize statistics\n",
        "    loss_total /= len(dataLoader)\n",
        "\n",
        "    return loss_total"
      ],
      "execution_count": 37,
      "outputs": []
    },
    {
      "cell_type": "markdown",
      "metadata": {
        "id": "U3iSex1cuxBv"
      },
      "source": [
        "# Define validation loop\n",
        "\n",
        "We cannot just train a model, but should periodically check how well it performs. This is exactly why we create a held-out validation split on which we do not train. If the model performs well in training, but bad in validation, it overfit the training set. If it performs bad in both, it underfits.\n",
        "Checking model performance on the validation set allows us to modify our hyperparameters (learning rate, data augmentation, etc.) and make the model work on the full dataset.\n",
        "\n",
        "\n",
        "\n",
        "---\n",
        "\n",
        "The validation loop is almost identical to the training loop, except that we don't need to optimize any model parameters."
      ]
    },
    {
      "cell_type": "code",
      "metadata": {
        "id": "vcJ3RabzvI7n"
      },
      "source": [
        "def validation_epoch(dataLoader, model, device):\n",
        "\n",
        "    # Put model into evaluation mode. Here, BatchNorm takes the learnt\n",
        "    # statistics, any existing Dropout is disabled, etc.\n",
        "    model.eval()\n",
        "\n",
        "    # Again, we define the loss function, but this time only use it for\n",
        "    # statistics.\n",
        "    criterion = nn.CrossEntropyLoss(ignore_index=255)\n",
        "\n",
        "    # This time, we are interested in the prediction accuracy, so in addition to\n",
        "    # the loss, we also define that. Depending on your requirements you may want\n",
        "    # to define more or other measurements.\n",
        "    loss_total = 0.0\n",
        "    oa_total = 0.0          # overall accuracy\n",
        "\n",
        "    progressBar = trange(len(dataLoader))\n",
        "\n",
        "    for index, (data, labels) in enumerate(dataLoader):\n",
        "\n",
        "        # Important: here, we don't perform any backpropagation, so we don't\n",
        "        # need to store any intermediate results. This not only saves a lot of\n",
        "        # GPU memory, it also makes model calculations a lot faster. In PyTorch,\n",
        "        # this can be done with a flag to disable gradient calculations\n",
        "        # (\"torch.no_grad\").\n",
        "        with torch.no_grad():\n",
        "\n",
        "            # again: put data and target labels on the GPU\n",
        "            data, labels = data.to(device), labels.to(device)\n",
        "\n",
        "            # forward pass\n",
        "            pred = model(data)\n",
        "\n",
        "            # loss value\n",
        "            loss = criterion(pred, labels)\n",
        "            loss_total += loss.item()\n",
        "\n",
        "            # now, our predictions consist of vectors for each class, but for\n",
        "            # the calculation of the OA we need actual predicted labels. These\n",
        "            # are essentially the position of the prediction with maximum value,\n",
        "            # i.e., the arg max.\n",
        "            labels_pred = pred.argmax(dim=1)        # dimension 1 is our classes, so we take the arg max along it\n",
        "\n",
        "            # calculate OA\n",
        "            oa = torch.mean((labels == labels_pred).float())\n",
        "            oa_total += oa.item()\n",
        "\n",
        "            # print in progress bar again\n",
        "            progressBar.set_description(\n",
        "                '[Val] Loss: {:.2f}, OA: {:.2f}'.format(\n",
        "                    loss_total/(index+1),\n",
        "                    100 * oa_total/(index+1)\n",
        "                )\n",
        "            )\n",
        "            progressBar.update(1)\n",
        "    \n",
        "    progressBar.close()\n",
        "\n",
        "    loss_total /= len(dataLoader)\n",
        "    oa_total /= len(dataLoader)\n",
        "\n",
        "    return loss_total, oa_total"
      ],
      "execution_count": 18,
      "outputs": []
    },
    {
      "cell_type": "markdown",
      "metadata": {
        "id": "ogiRYcJnvNPV"
      },
      "source": [
        "# Put it all together\n",
        "\n",
        "We now have everything, from dataset over model and optimizer to the training and validation functions. All that is left to do is to assemble the puzzle. Below, we will implement some remaining functionality, such as saving and loading trained models, but other than that that's all it takes.\n",
        "\n",
        "Let's first define our hyperparameters…"
      ]
    },
    {
      "cell_type": "code",
      "metadata": {
        "id": "eEVcQx40vuDk"
      },
      "source": [
        "num_epochs = 10\n",
        "batch_size = 4\n",
        "learning_rate = 0.01\n",
        "weight_decay = 0.0001\n",
        "scheduler_gamma = 0.1\n",
        "scheduler_milestones = [500, 1000]"
      ],
      "execution_count": 45,
      "outputs": []
    },
    {
      "cell_type": "markdown",
      "metadata": {
        "id": "qcf2Bwx_vvk6"
      },
      "source": [
        "…and then train and validate our model:"
      ]
    },
    {
      "cell_type": "code",
      "metadata": {
        "colab": {
          "base_uri": "https://localhost:8080/",
          "height": 264,
          "referenced_widgets": [
            "b650c0f7d9bc44f2ad258d6da34fcd44",
            "12bdf1f6a13a4ad3823c19ab47899e7e",
            "15b47df43f13418ca8eba8d9d036f80e",
            "e464031c41c94edead4fe1b5b20bcab9",
            "8afc2dfc827d488a85657347d326291f",
            "7a4581ccc932402fb120bd5732ef0f07",
            "c2ce4ec6fd7a4d64b01016263e898ce5",
            "61dfd6a0b77c4ba0a330cde10bb152e5",
            "914da5d9f0a745a582317f9527612429",
            "114bc70677dd4018bf8247812a08765e",
            "c80f9319b87848358b09f0bf036ccc03",
            "5be178ce75d749d89dbd132f54e2dc2c",
            "bbfb97bb60c44b07974ec835d1539e6c",
            "3a9d4147e96a49e496c2b4f0c61b8933",
            "1748dd1e8e0c41f69c588478837b6ac5",
            "b6ee308245f440f19c085704fe26d4a1",
            "5a7df87d05644495bd30603eded3cea8",
            "c10f745954bc4f859da8cd788ca255c8",
            "e8bd459136d44db1b9663b5d00a9ffaa",
            "c7de0a0e76c749f6b71480d437cad8cf",
            "abfc4299b41142989f96b35b53fbe3a5",
            "f3c8ad9a822742f0acb48498fd8f4071",
            "e74ce19fd5424dc0a13f2780bd67e16e",
            "1b0d2a5165a54ec0be3db59c39622cd6",
            "574f3b90f5ff401b8d22805bc32d1f34",
            "2580cb57e7164f909cb66e5f5e976fc4",
            "21ca2aea04a146de8aaeb403e2da0afe",
            "93a832fc94cf47e7bad1c1bb8074efb1",
            "3f716d715cbd4653af79fb8dbbe27b98",
            "73836a99177541b18b35b7726ba43b19",
            "b4735cf6bd3f448d9efa7ac1f08e73d8",
            "fe1483bdd5bb44b39f864da58090df0a"
          ]
        },
        "id": "wDHgRsbhvTbq",
        "outputId": "68cab36f-cb47-4546-bedc-45a7b442ef05"
      },
      "source": [
        "data_root = '/content/dataset_512x512_full'\n",
        "\n",
        "# initialize training and validation data loaders\n",
        "dl_train = load_dataset(data_root, 'train', batch_size)\n",
        "dl_val = load_dataset(data_root, 'val', batch_size)\n",
        "\n",
        "# information on dataset. This is usually provided in a config file somewhere with the dataset.\n",
        "num_classes = 6                 # Impervious, Buildings, Low Vegetation, Tree, Car, Clutter\n",
        "num_input_channels = 5          # NIR, R, G, DSM, nDSM\n",
        "\n",
        "\n",
        "# initialize model\n",
        "model = load_model(num_classes, num_input_channels)\n",
        "\n",
        "# initialize optimizer and learning rate scheduler\n",
        "optimizer = setup_optimizer(model, learning_rate, weight_decay)\n",
        "scheduler = setup_scheduler(optimizer, scheduler_milestones, scheduler_gamma)\n",
        "\n",
        "# load saved state if exists\n",
        "save_dir = 'cnn_states'\n",
        "os.makedirs(save_dir, exist_ok=True)\n",
        "saveStates = os.listdir(save_dir)\n",
        "if len(saveStates):\n",
        "    latest = max([int(s.replace('.pt', '')) for s in saveStates])\n",
        "    state = torch.load(open(os.path.join(save_dir, f'{latest}.pt'), 'rb'), map_location='cpu')\n",
        "    model.load_state_dict(state['model'])\n",
        "    optimizer.load_state_dict(state['optimizer'])\n",
        "    scheduler.load_state_dict(state['scheduler'])\n",
        "    epoch = state['epoch']\n",
        "    print(f'Resumed model epoch {epoch}.')\n",
        "else:\n",
        "    epoch = 1\n",
        "    print(f'Started new model.')\n",
        "\n",
        "# move model to the GPU\n",
        "device = 'cuda'\n",
        "model.to(device)\n",
        "\n",
        "# train for desired number of epochs\n",
        "while epoch <= num_epochs:\n",
        "\n",
        "    print(f'[Epoch {epoch}/{num_epochs}]')\n",
        "\n",
        "    # train\n",
        "    loss_train = training_epoch(dl_train, model, optimizer, scheduler, device)\n",
        "\n",
        "    # validate\n",
        "    loss_val, oa_val = validation_epoch(dl_val, model, device)\n",
        "\n",
        "    # save model parameters and statistics to file\n",
        "    params = {\n",
        "        'model': model.state_dict(),\n",
        "        'optimizer': optimizer.state_dict(),\n",
        "        'scheduler': scheduler.state_dict(),\n",
        "        'epoch': epoch,\n",
        "        'loss_train': loss_train,\n",
        "        'loss_val': loss_val,\n",
        "        'oa_val': oa_val\n",
        "    }\n",
        "    torch.save(params, open(f'{save_dir}/{epoch}.pt', 'wb'))        # \"w\" = \"write\", \"b\" = \"binary file\"\n",
        "    epoch += 1"
      ],
      "execution_count": 48,
      "outputs": [
        {
          "output_type": "stream",
          "text": [
            "Resumed model epoch 9.\n",
            "[Epoch 9/10]\n"
          ],
          "name": "stdout"
        },
        {
          "output_type": "display_data",
          "data": {
            "application/vnd.jupyter.widget-view+json": {
              "model_id": "b650c0f7d9bc44f2ad258d6da34fcd44",
              "version_minor": 0,
              "version_major": 2
            },
            "text/plain": [
              "HBox(children=(FloatProgress(value=0.0, max=158.0), HTML(value='')))"
            ]
          },
          "metadata": {
            "tags": []
          }
        },
        {
          "output_type": "stream",
          "text": [
            "\n"
          ],
          "name": "stdout"
        },
        {
          "output_type": "display_data",
          "data": {
            "application/vnd.jupyter.widget-view+json": {
              "model_id": "914da5d9f0a745a582317f9527612429",
              "version_minor": 0,
              "version_major": 2
            },
            "text/plain": [
              "HBox(children=(FloatProgress(value=0.0, max=28.0), HTML(value='')))"
            ]
          },
          "metadata": {
            "tags": []
          }
        },
        {
          "output_type": "stream",
          "text": [
            "\n",
            "[Epoch 10/10]\n"
          ],
          "name": "stdout"
        },
        {
          "output_type": "display_data",
          "data": {
            "application/vnd.jupyter.widget-view+json": {
              "model_id": "5a7df87d05644495bd30603eded3cea8",
              "version_minor": 0,
              "version_major": 2
            },
            "text/plain": [
              "HBox(children=(FloatProgress(value=0.0, max=158.0), HTML(value='')))"
            ]
          },
          "metadata": {
            "tags": []
          }
        },
        {
          "output_type": "stream",
          "text": [
            "\n"
          ],
          "name": "stdout"
        },
        {
          "output_type": "display_data",
          "data": {
            "application/vnd.jupyter.widget-view+json": {
              "model_id": "574f3b90f5ff401b8d22805bc32d1f34",
              "version_minor": 0,
              "version_major": 2
            },
            "text/plain": [
              "HBox(children=(FloatProgress(value=0.0, max=28.0), HTML(value='')))"
            ]
          },
          "metadata": {
            "tags": []
          }
        },
        {
          "output_type": "stream",
          "text": [
            "\n"
          ],
          "name": "stdout"
        }
      ]
    },
    {
      "cell_type": "markdown",
      "metadata": {
        "id": "AffG1CK6D5GR"
      },
      "source": [
        "# Extra: Visualization\n",
        "\n",
        "Now that we have trained our model a bit, let's see what its prediction actually looks like.\n",
        "\n",
        "For this tutorial we'll just draw a few images from the validation set and visualize the ground truth alongside the model predictions at different epochs."
      ]
    },
    {
      "cell_type": "code",
      "metadata": {
        "colab": {
          "base_uri": "https://localhost:8080/",
          "height": 1000
        },
        "id": "C4MrM-9MEPbd",
        "outputId": "45b50b7d-f959-424b-f4b8-3c218a79a696"
      },
      "source": [
        "%matplotlib inline\n",
        "import matplotlib.pyplot as plt\n",
        "\n",
        "\n",
        "\n",
        "\n",
        "\n",
        "\n",
        "def visualize(dataLoader, epochs, numImages=5):\n",
        "  models = [load_model_from_state(e) for e in epochs]\n",
        "  numModels = len(models)\n",
        "  for idx, (data, labels) in enumerate(dataLoader):\n",
        "    if idx == numImages:\n",
        "      break\n",
        "\n",
        "    _, ax = plt.subplots(nrows=1, ncols=numModels+1, figsize = (20, 15))\n",
        "\n",
        "    # plot ground truth\n",
        "    ax[0].imshow(labels[0,...].cpu().numpy())\n",
        "    ax[0].axis('off')\n",
        "    if idx == 0:\n",
        "      ax[0].set_title('Ground Truth')\n",
        "\n",
        "    for mIdx, model in enumerate(models):\n",
        "      with torch.no_grad():\n",
        "        pred = model(data.to(device))\n",
        "\n",
        "        # get the label (i.e., the maximum position for each pixel along the class dimension)\n",
        "        yhat = torch.argmax(pred, dim=1)\n",
        "\n",
        "        # plot model predictions\n",
        "        ax[mIdx+1].imshow(yhat[0,...].cpu().numpy())\n",
        "        ax[mIdx+1].axis('off')\n",
        "        if idx == 0:\n",
        "          ax[mIdx+1].set_title(f'Epoch {epochs[mIdx]}')\n",
        "\n",
        "\n",
        "def load_model_from_state(epoch='latest'):\n",
        "  '''\n",
        "      Little helper function to load a model at a given epoch.\n",
        "  '''\n",
        "  model = load_model(num_classes, num_input_channels)\n",
        "  if epoch == 'latest':\n",
        "    # find all saved models and load latest\n",
        "    saveStates = os.listdir(save_dir)\n",
        "    if len(saveStates):\n",
        "      epoch = max([int(s.replace('.pt', '')) for s in saveStates])\n",
        "  \n",
        "  if epoch != 0:\n",
        "    state = torch.load(open(os.path.join(save_dir, f'{latest}.pt'), 'rb'), map_location='cpu')\n",
        "    model.load_state_dict(state['model'])\n",
        "  model.to(device)\n",
        "  return model\n",
        "\n",
        "\n",
        "# visualize predictions for a number of epochs\n",
        "dl_val_single = load_dataset(data_root, split='val', batch_size=1)\n",
        "\n",
        "# load model states at different epochs\n",
        "epochs = [0, 1, 5, 'latest']     # modify this vector according to your wishes, resp. for how many model states you have trained\n",
        "\n",
        "visualize(dl_val_single, epochs, numImages=5)"
      ],
      "execution_count": 102,
      "outputs": [
        {
          "output_type": "display_data",
          "data": {
            "image/png": "[encoded data removed]",
            "text/plain": [
              "<Figure size 1440x1080 with 5 Axes>"
            ]
          },
          "metadata": {
            "tags": [],
            "needs_background": "light"
          }
        },
        {
          "output_type": "display_data",
          "data": {
            "image/png": "[encoded data removed]",
            "text/plain": [
              "<Figure size 1440x1080 with 5 Axes>"
            ]
          },
          "metadata": {
            "tags": [],
            "needs_background": "light"
          }
        },
        {
          "output_type": "display_data",
          "data": {
            "image/png": "[encoded data removed]",
            "text/plain": [
              "<Figure size 1440x1080 with 5 Axes>"
            ]
          },
          "metadata": {
            "tags": [],
            "needs_background": "light"
          }
        },
        {
          "output_type": "display_data",
          "data": {
            "image/png": "[encoded data removed]",
            "text/plain": [
              "<Figure size 1440x1080 with 5 Axes>"
            ]
          },
          "metadata": {
            "tags": [],
            "needs_background": "light"
          }
        },
        {
          "output_type": "display_data",
          "data": {
            "image/png": "[encoded data removed]",
            "text/plain": [
              "<Figure size 1440x1080 with 5 Axes>"
            ]
          },
          "metadata": {
            "tags": [],
            "needs_background": "light"
          }
        }
      ]
    }
  ]
}